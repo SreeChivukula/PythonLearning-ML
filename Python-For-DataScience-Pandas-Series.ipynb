{
 "cells": [
  {
   "cell_type": "code",
   "execution_count": null,
   "metadata": {},
   "outputs": [],
   "source": [
    "#### Pandas is open source library built on top of Numpy\n",
    "### fast analysis and data cleaning and preparation\n",
    "### excels in performance and productivity\n",
    "### has built in visualization features\n",
    "### can work with data from wide variety of sources\n",
    "\n",
    "#### installlation of pandas outside jupyter\n",
    "### from command line or terminal  pip install pandas\n",
    "### from anaconda prompt           conda install pandas\n",
    "\n",
    "### if you already installed jupyter , you can call pandas automatically"
   ]
  },
  {
   "cell_type": "code",
   "execution_count": null,
   "metadata": {},
   "outputs": [],
   "source": [
    "###### Pandas Series\n",
    "####   Series is similar to numpy array, difference is it can be indexed by label"
   ]
  },
  {
   "cell_type": "code",
   "execution_count": 5,
   "metadata": {},
   "outputs": [],
   "source": [
    "import numpy as np"
   ]
  },
  {
   "cell_type": "code",
   "execution_count": 6,
   "metadata": {},
   "outputs": [],
   "source": [
    "import pandas as pd"
   ]
  },
  {
   "cell_type": "code",
   "execution_count": 7,
   "metadata": {},
   "outputs": [],
   "source": [
    "#### let us create 4 objects\n",
    "\n",
    "### create a new list called \"labels\"  with strings\n",
    "labels = ['a','b','c','d','e']\n",
    "\n",
    "#### create a new list of numbers\n",
    "my_data = [10,20,30,40,50]\n",
    "\n",
    "#### create a numpy array \n",
    "arr = np.array(my_data)\n",
    "\n",
    "### create a dictionary\n",
    "d = {'key1':10, 'key2':20,'key3':100,'key4':40,'key5':50}"
   ]
  },
  {
   "cell_type": "code",
   "execution_count": 12,
   "metadata": {},
   "outputs": [
    {
     "name": "stdout",
     "output_type": "stream",
     "text": [
      "['a', 'b', 'c', 'd', 'e']\n",
      "[10, 20, 30, 40, 50]\n",
      "[10 20 30 40 50]\n",
      "{'key1': 10, 'key2': 20, 'key3': 100, 'key4': 40, 'key5': 50}\n"
     ]
    }
   ],
   "source": [
    "print(labels)\n",
    "\n",
    "print(my_data)\n",
    "\n",
    "print(arr)\n",
    "\n",
    "print(d)"
   ]
  },
  {
   "cell_type": "code",
   "execution_count": null,
   "metadata": {},
   "outputs": [],
   "source": [
    "\n",
    "\n"
   ]
  },
  {
   "cell_type": "code",
   "execution_count": 8,
   "metadata": {},
   "outputs": [
    {
     "data": {
      "text/plain": [
       "0    10\n",
       "1    20\n",
       "2    30\n",
       "3    40\n",
       "4    50\n",
       "dtype: int64"
      ]
     },
     "execution_count": 8,
     "metadata": {},
     "output_type": "execute_result"
    }
   ],
   "source": [
    "#### create a new series.\n",
    "### A series takes a wide variety of params. We will focus only on data and index\n",
    "\n",
    "### CREATE A SERIES WITH \"data\" as parameter and passing the list my_data\n",
    "pd.Series(data=my_data)\n"
   ]
  },
  {
   "cell_type": "code",
   "execution_count": 9,
   "metadata": {},
   "outputs": [],
   "source": [
    "#### create series with \"data\" parameter from my_data list and index parameter from \"labels\" list\n",
    "my_series=pd.Series(data=my_data,index=labels)\n",
    "\n",
    "#### note the contents of the list \"lablels\" as become the index of the Series my_series"
   ]
  },
  {
   "cell_type": "code",
   "execution_count": 15,
   "metadata": {},
   "outputs": [
    {
     "name": "stdout",
     "output_type": "stream",
     "text": [
      "a    10\n",
      "b    20\n",
      "c    30\n",
      "d    40\n",
      "e    50\n",
      "dtype: int64\n"
     ]
    }
   ],
   "source": [
    "print(my_series)"
   ]
  },
  {
   "cell_type": "code",
   "execution_count": 10,
   "metadata": {},
   "outputs": [
    {
     "name": "stdout",
     "output_type": "stream",
     "text": [
      "a    10\n",
      "b    20\n",
      "c    30\n",
      "d    40\n",
      "e    50\n",
      "dtype: int64\n"
     ]
    }
   ],
   "source": [
    "### another way creating a series \n",
    "my_series1 = pd.Series(my_data,labels)     #### you could also code without data= and index=.\n",
    "print(my_series1)\n",
    "\n",
    "#### NOTE ###### \n",
    "#### note number of items in the object passed for \"data\" argument and\n",
    "#### object passed for \"index\" argument\n",
    "#### should be same. else you will get an error indicating the differences"
   ]
  },
  {
   "cell_type": "code",
   "execution_count": null,
   "metadata": {},
   "outputs": [],
   "source": [
    "###### Difference between Numpy and Series\n",
    "###### unlike numpy array, i have labeled index , i can have one object as an index of another object\n",
    "###### data points or observations can be called using the labled index"
   ]
  },
  {
   "cell_type": "code",
   "execution_count": 11,
   "metadata": {},
   "outputs": [
    {
     "name": "stdout",
     "output_type": "stream",
     "text": [
      "[10 20 30 40 50]\n"
     ]
    },
    {
     "data": {
      "text/plain": [
       "0    10\n",
       "1    20\n",
       "2    30\n",
       "3    40\n",
       "4    50\n",
       "dtype: int32"
      ]
     },
     "execution_count": 11,
     "metadata": {},
     "output_type": "execute_result"
    }
   ],
   "source": [
    "print(arr)\n",
    "\n",
    "#### creating a series by using numpy array. with automatic indexes (no index parameter specified)\n",
    "pd.Series(arr)"
   ]
  },
  {
   "cell_type": "code",
   "execution_count": 12,
   "metadata": {},
   "outputs": [
    {
     "data": {
      "text/plain": [
       "a      (1, 2)\n",
       "b    (aa, bb)\n",
       "c      (3, 4)\n",
       "d    (cc, dd)\n",
       "e    (50, 60)\n",
       "dtype: object"
      ]
     },
     "execution_count": 12,
     "metadata": {},
     "output_type": "execute_result"
    }
   ],
   "source": [
    "#### creating a Series out of a tuple\n",
    "### create my_tup\n",
    "my_tup = ((1,2),('aa','bb'),(3,4),('cc','dd'),(50,60))\n",
    "\n",
    "pd.Series(data=my_tup,index=labels)\n",
    "\n",
    "\n",
    "#### note\n",
    "  ### the indexes and contents of the tuples need to align"
   ]
  },
  {
   "cell_type": "code",
   "execution_count": 19,
   "metadata": {},
   "outputs": [
    {
     "data": {
      "text/plain": [
       "a    10\n",
       "b    20\n",
       "c    30\n",
       "d    40\n",
       "e    50\n",
       "dtype: int32"
      ]
     },
     "execution_count": 19,
     "metadata": {},
     "output_type": "execute_result"
    }
   ],
   "source": [
    "#### creating a series by using numpy array and labeled indexes\n",
    "pd.Series(arr,index=labels)"
   ]
  },
  {
   "cell_type": "code",
   "execution_count": null,
   "metadata": {},
   "outputs": [],
   "source": []
  },
  {
   "cell_type": "code",
   "execution_count": null,
   "metadata": {},
   "outputs": [],
   "source": [
    "d"
   ]
  },
  {
   "cell_type": "code",
   "execution_count": 20,
   "metadata": {},
   "outputs": [],
   "source": [
    "lab1 = ['A','B','C','D']"
   ]
  },
  {
   "cell_type": "code",
   "execution_count": 13,
   "metadata": {},
   "outputs": [
    {
     "data": {
      "text/plain": [
       "key1     10\n",
       "key2     20\n",
       "key3    100\n",
       "key4     40\n",
       "key5     50\n",
       "dtype: int64"
      ]
     },
     "execution_count": 13,
     "metadata": {},
     "output_type": "execute_result"
    }
   ],
   "source": [
    "#### creating a Series by using dictionary\n",
    "pd.Series(data=d)\n",
    "\n",
    "\n",
    "### note that the keys of dictionary are automatically considered as labels of index."
   ]
  },
  {
   "cell_type": "code",
   "execution_count": 22,
   "metadata": {},
   "outputs": [
    {
     "name": "stdout",
     "output_type": "stream",
     "text": [
      "['lbidx1', 'lbidx2', 'lbidx3', 'lbidx4', 'lbindx5']\n"
     ]
    },
    {
     "data": {
      "text/plain": [
       "lbidx1    NaN\n",
       "lbidx2    NaN\n",
       "lbidx3    NaN\n",
       "lbidx4    NaN\n",
       "lbindx5   NaN\n",
       "dtype: float64"
      ]
     },
     "execution_count": 22,
     "metadata": {},
     "output_type": "execute_result"
    }
   ],
   "source": [
    "#### creating a Series by using dictionary and rename the indexes to another label\n",
    "#### note that the series always defaults to the key of dictionary and any other labelled index \n",
    "##### returns NaN (Not a Number)\n",
    "labindex = ['lbidx1','lbidx2','lbidx3','lbidx4','lbindx5' ]\n",
    "print(labindex)\n",
    "\n",
    "## pd.Series(data=d,index=labindex)\n",
    "\n",
    "### correct way to do it \n",
    "pd.Series(data=d,index=labindex)"
   ]
  },
  {
   "cell_type": "code",
   "execution_count": 23,
   "metadata": {},
   "outputs": [
    {
     "data": {
      "text/plain": [
       "0     lbidx1\n",
       "1     lbidx2\n",
       "2     lbidx3\n",
       "3     lbidx4\n",
       "4    lbindx5\n",
       "dtype: object"
      ]
     },
     "execution_count": 23,
     "metadata": {},
     "output_type": "execute_result"
    }
   ],
   "source": [
    "#### a Series can hold any data object of python\n",
    "###### creating a series out of a list of strings in labindex list\n",
    "pd.Series(data=labindex)\n",
    "\n",
    "\n",
    "#### an example of a series which has strings as data "
   ]
  },
  {
   "cell_type": "code",
   "execution_count": null,
   "metadata": {},
   "outputs": [],
   "source": [
    "##### a series with built in functions as data points ...references to built in functions. very rarely used\n",
    "\n",
    "pd.Series(data=[sum,print,len]) "
   ]
  },
  {
   "cell_type": "code",
   "execution_count": 14,
   "metadata": {},
   "outputs": [],
   "source": [
    "##### grabbing information from a series using indexes. index look ups\n",
    "#### works like a hash table or a dictionary\n",
    "\n",
    "ser1 = pd.Series(data=[1,2,3,4],index=['dog','cat','lion','tiger'])\n",
    "\n",
    "\n",
    "#### note heere data is 1,2,3 4 and index is dog, cat, lion..etc"
   ]
  },
  {
   "cell_type": "code",
   "execution_count": 16,
   "metadata": {},
   "outputs": [
    {
     "data": {
      "text/plain": [
       "dog      1\n",
       "cat      2\n",
       "lion     3\n",
       "tiger    4\n",
       "dtype: int64"
      ]
     },
     "execution_count": 16,
     "metadata": {},
     "output_type": "execute_result"
    }
   ],
   "source": [
    "ser1    #### list of strings is the index and list of numbers is the data"
   ]
  },
  {
   "cell_type": "code",
   "execution_count": 17,
   "metadata": {},
   "outputs": [],
   "source": [
    "ser2 = pd.Series(data=[1,2,5,4],index=['dog','cat','panda','hyena'])"
   ]
  },
  {
   "cell_type": "code",
   "execution_count": 18,
   "metadata": {},
   "outputs": [
    {
     "data": {
      "text/plain": [
       "dog      1\n",
       "cat      2\n",
       "panda    5\n",
       "hyena    4\n",
       "dtype: int64"
      ]
     },
     "execution_count": 18,
     "metadata": {},
     "output_type": "execute_result"
    }
   ],
   "source": [
    "ser2"
   ]
  },
  {
   "cell_type": "code",
   "execution_count": 19,
   "metadata": {},
   "outputs": [
    {
     "name": "stdout",
     "output_type": "stream",
     "text": [
      "1\n"
     ]
    }
   ],
   "source": [
    "### to grab information from series\n",
    "#### extract 1\n",
    "print(ser1['dog'])\n",
    "\n"
   ]
  },
  {
   "cell_type": "code",
   "execution_count": 28,
   "metadata": {},
   "outputs": [
    {
     "data": {
      "text/plain": [
       "dog      1\n",
       "cat      2\n",
       "lion     3\n",
       "tiger    4\n",
       "dtype: int64"
      ]
     },
     "execution_count": 28,
     "metadata": {},
     "output_type": "execute_result"
    }
   ],
   "source": [
    "ser1"
   ]
  },
  {
   "cell_type": "code",
   "execution_count": 27,
   "metadata": {},
   "outputs": [
    {
     "data": {
      "text/plain": [
       "cat     2\n",
       "lion    3\n",
       "dtype: int64"
      ]
     },
     "execution_count": 27,
     "metadata": {},
     "output_type": "execute_result"
    }
   ],
   "source": [
    "ser1['cat':'lion']      #### here the index is a string"
   ]
  },
  {
   "cell_type": "code",
   "execution_count": 29,
   "metadata": {},
   "outputs": [
    {
     "data": {
      "text/plain": [
       "['a', 'b', 'c', 'd', 'e']"
      ]
     },
     "execution_count": 29,
     "metadata": {},
     "output_type": "execute_result"
    }
   ],
   "source": [
    "labels"
   ]
  },
  {
   "cell_type": "code",
   "execution_count": 31,
   "metadata": {},
   "outputs": [
    {
     "data": {
      "text/plain": [
       "0    a\n",
       "1    b\n",
       "2    c\n",
       "3    d\n",
       "4    e\n",
       "dtype: object"
      ]
     },
     "execution_count": 31,
     "metadata": {},
     "output_type": "execute_result"
    }
   ],
   "source": [
    "#### retrieving data from a series with index as numbers\n",
    "ser3 = pd.Series(data=labels) \n",
    "ser3"
   ]
  },
  {
   "cell_type": "code",
   "execution_count": 32,
   "metadata": {},
   "outputs": [
    {
     "data": {
      "text/plain": [
       "0    a\n",
       "1    b\n",
       "dtype: object"
      ]
     },
     "execution_count": 32,
     "metadata": {},
     "output_type": "execute_result"
    }
   ],
   "source": [
    "ser3[0:2]     "
   ]
  },
  {
   "cell_type": "code",
   "execution_count": 34,
   "metadata": {},
   "outputs": [
    {
     "name": "stdout",
     "output_type": "stream",
     "text": [
      "dog      1\n",
      "cat      2\n",
      "lion     3\n",
      "tiger    4\n",
      "dtype: int64\n"
     ]
    }
   ],
   "source": [
    "print(ser1)"
   ]
  },
  {
   "cell_type": "code",
   "execution_count": 35,
   "metadata": {},
   "outputs": [
    {
     "name": "stdout",
     "output_type": "stream",
     "text": [
      "dog      1\n",
      "cat      2\n",
      "panda    5\n",
      "hyena    4\n",
      "dtype: int64\n"
     ]
    }
   ],
   "source": [
    "print(ser2)"
   ]
  },
  {
   "cell_type": "code",
   "execution_count": 33,
   "metadata": {},
   "outputs": [
    {
     "data": {
      "text/plain": [
       "cat      4.0\n",
       "dog      2.0\n",
       "hyena    NaN\n",
       "lion     NaN\n",
       "panda    NaN\n",
       "tiger    NaN\n",
       "dtype: float64"
      ]
     },
     "execution_count": 33,
     "metadata": {},
     "output_type": "execute_result"
    }
   ],
   "source": [
    "#### addition of 2 series\n",
    "\n",
    "ser1 + ser2\n",
    "\n",
    "#### note whereever there is a match on the index, values were added. whereever there is no match\n",
    "#### a Nan is displayed.\n",
    "\n",
    "#### integers will be converted to float to retain all information possible"
   ]
  },
  {
   "cell_type": "code",
   "execution_count": 1,
   "metadata": {},
   "outputs": [
    {
     "ename": "NameError",
     "evalue": "name 'ser1' is not defined",
     "output_type": "error",
     "traceback": [
      "\u001b[1;31m---------------------------------------------------------------------------\u001b[0m",
      "\u001b[1;31mNameError\u001b[0m                                 Traceback (most recent call last)",
      "\u001b[1;32m<ipython-input-1-52f7d5dcbd47>\u001b[0m in \u001b[0;36m<module>\u001b[1;34m()\u001b[0m\n\u001b[1;32m----> 1\u001b[1;33m \u001b[0mser1\u001b[0m\u001b[1;33m\u001b[0m\u001b[0m\n\u001b[0m",
      "\u001b[1;31mNameError\u001b[0m: name 'ser1' is not defined"
     ]
    }
   ],
   "source": [
    "ser1"
   ]
  },
  {
   "cell_type": "code",
   "execution_count": null,
   "metadata": {},
   "outputs": [],
   "source": []
  },
  {
   "cell_type": "code",
   "execution_count": null,
   "metadata": {},
   "outputs": [],
   "source": []
  },
  {
   "cell_type": "code",
   "execution_count": null,
   "metadata": {},
   "outputs": [],
   "source": []
  },
  {
   "cell_type": "code",
   "execution_count": null,
   "metadata": {},
   "outputs": [],
   "source": []
  }
 ],
 "metadata": {
  "kernelspec": {
   "display_name": "Python 3",
   "language": "python",
   "name": "python3"
  },
  "language_info": {
   "codemirror_mode": {
    "name": "ipython",
    "version": 3
   },
   "file_extension": ".py",
   "mimetype": "text/x-python",
   "name": "python",
   "nbconvert_exporter": "python",
   "pygments_lexer": "ipython3",
   "version": "3.6.4"
  }
 },
 "nbformat": 4,
 "nbformat_minor": 2
}
