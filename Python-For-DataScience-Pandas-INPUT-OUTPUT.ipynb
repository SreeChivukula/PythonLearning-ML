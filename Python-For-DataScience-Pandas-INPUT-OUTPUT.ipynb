{
 "cells": [
  {
   "cell_type": "markdown",
   "metadata": {
    "collapsed": true
   },
   "source": [
    "DATA INPUT AND OUTPUT USING PANDAS\n",
    "CSV\n",
    "EXCEL\n",
    "HTML\n",
    "SQL\n",
    "\n",
    "Libraries that need to be installed with pip or conda\n",
    "conda install sqlalchemy\n",
    "conda install lxml\n",
    "conda install html5lib\n",
    "conta install BeautifulSoup4\n",
    "\n",
    "to read any file, type read_ and click tab"
   ]
  },
  {
   "cell_type": "code",
   "execution_count": null,
   "metadata": {},
   "outputs": [],
   "source": [
    "import pandas as pd"
   ]
  },
  {
   "cell_type": "code",
   "execution_count": null,
   "metadata": {},
   "outputs": [],
   "source": [
    "import numpy as np"
   ]
  },
  {
   "cell_type": "code",
   "execution_count": null,
   "metadata": {},
   "outputs": [],
   "source": [
    "### make sure that the csv files are in the same location of your jupyter notebook\n",
    "pd.read_csv('african_crises.csv')"
   ]
  },
  {
   "cell_type": "code",
   "execution_count": null,
   "metadata": {},
   "outputs": [],
   "source": [
    "### reading a csv file and saving to dataframe\n",
    "df= pd.read_csv('african_crises.csv')\n",
    "\n",
    "df\n"
   ]
  },
  {
   "cell_type": "code",
   "execution_count": null,
   "metadata": {},
   "outputs": [],
   "source": [
    "#### writing into a file from dataframe\n",
    "##### click tab key after df.to to get all options\n",
    "### below creates a My_Ouput.csv file\n",
    "#### reason for index = False is index also gets saved as a column \n",
    "df.to_csv('My_Output1')"
   ]
  },
  {
   "cell_type": "code",
   "execution_count": null,
   "metadata": {},
   "outputs": [],
   "source": [
    "pd.read_csv('My_Output1')  #### note the column Unnamed which also stores index\n",
    "#pd.read_csv('My_Output1')  #### note the column Unnamed which also stores index"
   ]
  },
  {
   "cell_type": "code",
   "execution_count": null,
   "metadata": {},
   "outputs": [],
   "source": [
    "df.to_csv('My_Output1',index=False)"
   ]
  },
  {
   "cell_type": "code",
   "execution_count": null,
   "metadata": {
    "scrolled": true
   },
   "outputs": [],
   "source": [
    "df"
   ]
  },
  {
   "cell_type": "code",
   "execution_count": null,
   "metadata": {},
   "outputs": [],
   "source": [
    "pd.read_csv('My_Output1')   "
   ]
  },
  {
   "cell_type": "markdown",
   "metadata": {
    "collapsed": true
   },
   "source": [
    "READING AND WRITING FROM EXCEL FILES\n",
    "      PANDAS CAN ONLY IMPORT DATA.\n",
    "      DOES NOT IMPORT FORMULAS OR MACROS\n",
    "      TRYING TO READ EXCEL FILE WITH FORMULAS MAY CAUSE PANDAS TO CRASH\n",
    "      WE MAY BE ASKED TO INSTALL XLRD LIBRARY(IDEALLY INSTALLED AUTOMATICALLY WITH ANACONDA \n",
    "      Distribution)\n",
    "      IF ERROR\n",
    "         conda install xlrd"
   ]
  },
  {
   "cell_type": "code",
   "execution_count": null,
   "metadata": {},
   "outputs": [],
   "source": [
    "#### to read an excel file, pass file name and sheet name. if no sheet name given, sheet1 is assumed\n",
    "### pandas reads as a dataframe\n",
    "df1=pd.read_excel('olympics.xlsx',sheet_name='olympics',ignore_index=True)\n",
    "df2=pd.read_excel('olympics.xlsx',sheet_name='Asean',ignore_index=True)\n",
    "df = pd.concat([df1, df2]) \n",
    "df"
   ]
  },
  {
   "cell_type": "code",
   "execution_count": null,
   "metadata": {},
   "outputs": [],
   "source": [
    "df1 = pd.read_excel('olympics.xlsx', sheet_name=None, ignore_index=True)\n",
    "df = pd.concat(df1.values(), ignore_index=True)\n",
    "\n",
    "print(df)"
   ]
  },
  {
   "cell_type": "code",
   "execution_count": null,
   "metadata": {},
   "outputs": [],
   "source": [
    "#### write to excel\n",
    "df.to_excel('olympics1.xlsx')\n",
    "#df1.to_excel('olympics1.xlsx',sheet_name='Asean')"
   ]
  },
  {
   "cell_type": "code",
   "execution_count": null,
   "metadata": {},
   "outputs": [],
   "source": [
    "df\n",
    "df.fillna(0)"
   ]
  },
  {
   "cell_type": "code",
   "execution_count": null,
   "metadata": {},
   "outputs": [],
   "source": [
    "df.head()\n",
    "df.tail()\n",
    "df.describe()"
   ]
  },
  {
   "cell_type": "code",
   "execution_count": null,
   "metadata": {},
   "outputs": [],
   "source": [
    "df.columns"
   ]
  },
  {
   "cell_type": "code",
   "execution_count": null,
   "metadata": {},
   "outputs": [],
   "source": [
    "df.iloc[3]"
   ]
  },
  {
   "cell_type": "code",
   "execution_count": null,
   "metadata": {},
   "outputs": [],
   "source": [
    "df[\"Country\"]"
   ]
  },
  {
   "cell_type": "code",
   "execution_count": null,
   "metadata": {},
   "outputs": [],
   "source": [
    "df[\"Country\"].head()"
   ]
  },
  {
   "cell_type": "code",
   "execution_count": null,
   "metadata": {},
   "outputs": [],
   "source": [
    "# making boolean series for a team name \n",
    "filter_Gold = df[\"Gold\"]>25\n",
    "filter_Silver = df[\"Silver\"]>25\n",
    "filer_Bronze = df[\"Bronze\"]>20\n",
    "  \n",
    "# filtering data \n",
    "df.where(filter_Gold & filter_Silver & filer_Bronze, inplace = True) \n",
    "  \n",
    "# display \n",
    "df"
   ]
  },
  {
   "cell_type": "code",
   "execution_count": null,
   "metadata": {},
   "outputs": [],
   "source": [
    "newdf[\"Total Medal Cpunt\"]=df[\"Gold\"]+df[\"Silver\"]+df[\"Bronze\"]\n",
    "newdf"
   ]
  },
  {
   "cell_type": "markdown",
   "metadata": {},
   "source": [
    "READING FROM HTML INPUT"
   ]
  },
  {
   "cell_type": "code",
   "execution_count": null,
   "metadata": {},
   "outputs": [],
   "source": [
    "data = pd.read_html('https://www.fdic.gov/bank/individual/failed/banklist.html')\n",
    "\n",
    "#### notee that depending on the size of html,\n",
    "#### jupyter will take time to read and process the data.\n",
    "#### output is a list\n",
    "#### this command, picks up every table element that is present in html file\n",
    "#### table references markings (can be found in the html source code \"view source\")\n",
    "### this command, creates a list of all table elements and converts each item to data frame)\n"
   ]
  },
  {
   "cell_type": "code",
   "execution_count": null,
   "metadata": {},
   "outputs": [],
   "source": [
    "type(data)"
   ]
  },
  {
   "cell_type": "code",
   "execution_count": null,
   "metadata": {},
   "outputs": [],
   "source": [
    "#### to check the first item in list\n",
    "data[0]"
   ]
  },
  {
   "cell_type": "code",
   "execution_count": null,
   "metadata": {},
   "outputs": [],
   "source": [
    "data[0].head()"
   ]
  },
  {
   "cell_type": "code",
   "execution_count": null,
   "metadata": {},
   "outputs": [],
   "source": []
  },
  {
   "cell_type": "markdown",
   "metadata": {},
   "source": [
    "WORKING WITH SQL IN PANDAS\n",
    "PANDAS IS NOT THE BEST WAY TO READ A SQL DB\n",
    "WE WILL BUILD A VERY SIMPLE SQL ENGINE JUST TO SHOW HOW PANDAS CAN BE USED TO READ TABLES\n",
    "SPECIFIC DRIVERS NEED TO BE USED FOR SPECIFIC SQL DB LIKE POSTGRESS, MYSQL ETC"
   ]
  },
  {
   "cell_type": "code",
   "execution_count": null,
   "metadata": {},
   "outputs": [],
   "source": [
    "#### helps create a simple sql engine\n",
    "from sqlalchemy import create_engine"
   ]
  },
  {
   "cell_type": "code",
   "execution_count": null,
   "metadata": {},
   "outputs": [],
   "source": [
    "### creates a small, temp sqllite engine which is in memory\n",
    "engine = create_engine('sqlite:///:memory:')"
   ]
  },
  {
   "cell_type": "code",
   "execution_count": null,
   "metadata": {},
   "outputs": [],
   "source": [
    "df"
   ]
  },
  {
   "cell_type": "code",
   "execution_count": null,
   "metadata": {},
   "outputs": [],
   "source": [
    "#### this engine is a connection. go over the help document. \n",
    "### pandas is not great with sqls. look for specialized\n",
    "#### python librraries\n",
    "df.to_sql('my_table',engine)"
   ]
  },
  {
   "cell_type": "code",
   "execution_count": null,
   "metadata": {},
   "outputs": [],
   "source": [
    "sqldf = pd.read_sql('my_table',con=engine)"
   ]
  },
  {
   "cell_type": "code",
   "execution_count": 154,
   "metadata": {},
   "outputs": [
    {
     "data": {
      "text/html": [
       "<div>\n",
       "<style scoped>\n",
       "    .dataframe tbody tr th:only-of-type {\n",
       "        vertical-align: middle;\n",
       "    }\n",
       "\n",
       "    .dataframe tbody tr th {\n",
       "        vertical-align: top;\n",
       "    }\n",
       "\n",
       "    .dataframe thead th {\n",
       "        text-align: right;\n",
       "    }\n",
       "</style>\n",
       "<table border=\"1\" class=\"dataframe\">\n",
       "  <thead>\n",
       "    <tr style=\"text-align: right;\">\n",
       "      <th></th>\n",
       "      <th>index</th>\n",
       "      <th>Country</th>\n",
       "      <th>Country Code</th>\n",
       "      <th>Year</th>\n",
       "      <th>Gold</th>\n",
       "      <th>Silver</th>\n",
       "      <th>Bronze</th>\n",
       "    </tr>\n",
       "  </thead>\n",
       "  <tbody>\n",
       "    <tr>\n",
       "      <td>0</td>\n",
       "      <td>0</td>\n",
       "      <td>Great Britain</td>\n",
       "      <td>GBR</td>\n",
       "      <td>2012</td>\n",
       "      <td>29</td>\n",
       "      <td>17</td>\n",
       "      <td>19</td>\n",
       "    </tr>\n",
       "    <tr>\n",
       "      <td>1</td>\n",
       "      <td>1</td>\n",
       "      <td>China</td>\n",
       "      <td>CHN</td>\n",
       "      <td>2012</td>\n",
       "      <td>38</td>\n",
       "      <td>28</td>\n",
       "      <td>22</td>\n",
       "    </tr>\n",
       "    <tr>\n",
       "      <td>2</td>\n",
       "      <td>2</td>\n",
       "      <td>Russia</td>\n",
       "      <td>RUS</td>\n",
       "      <td>2012</td>\n",
       "      <td>24</td>\n",
       "      <td>25</td>\n",
       "      <td>32</td>\n",
       "    </tr>\n",
       "    <tr>\n",
       "      <td>3</td>\n",
       "      <td>3</td>\n",
       "      <td>United States</td>\n",
       "      <td>US</td>\n",
       "      <td>2012</td>\n",
       "      <td>46</td>\n",
       "      <td>28</td>\n",
       "      <td>29</td>\n",
       "    </tr>\n",
       "    <tr>\n",
       "      <td>4</td>\n",
       "      <td>4</td>\n",
       "      <td>Korea</td>\n",
       "      <td>KOR</td>\n",
       "      <td>2012</td>\n",
       "      <td>13</td>\n",
       "      <td>8</td>\n",
       "      <td>7</td>\n",
       "    </tr>\n",
       "    <tr>\n",
       "      <td>5</td>\n",
       "      <td>5</td>\n",
       "      <td>Japan</td>\n",
       "      <td>JPN</td>\n",
       "      <td>2012</td>\n",
       "      <td>7</td>\n",
       "      <td>14</td>\n",
       "      <td>17</td>\n",
       "    </tr>\n",
       "    <tr>\n",
       "      <td>6</td>\n",
       "      <td>6</td>\n",
       "      <td>Germany</td>\n",
       "      <td>GER</td>\n",
       "      <td>2012</td>\n",
       "      <td>11</td>\n",
       "      <td>11</td>\n",
       "      <td>14</td>\n",
       "    </tr>\n",
       "    <tr>\n",
       "      <td>7</td>\n",
       "      <td>7</td>\n",
       "      <td>Bhutan</td>\n",
       "      <td>BHU</td>\n",
       "      <td>2012</td>\n",
       "      <td>29</td>\n",
       "      <td>17</td>\n",
       "      <td>19</td>\n",
       "    </tr>\n",
       "    <tr>\n",
       "      <td>8</td>\n",
       "      <td>8</td>\n",
       "      <td>Myanmar</td>\n",
       "      <td>MYN</td>\n",
       "      <td>2012</td>\n",
       "      <td>38</td>\n",
       "      <td>28</td>\n",
       "      <td>22</td>\n",
       "    </tr>\n",
       "    <tr>\n",
       "      <td>9</td>\n",
       "      <td>9</td>\n",
       "      <td>Nepal</td>\n",
       "      <td>NEP</td>\n",
       "      <td>2012</td>\n",
       "      <td>24</td>\n",
       "      <td>25</td>\n",
       "      <td>32</td>\n",
       "    </tr>\n",
       "    <tr>\n",
       "      <td>10</td>\n",
       "      <td>10</td>\n",
       "      <td>India</td>\n",
       "      <td>IND</td>\n",
       "      <td>2012</td>\n",
       "      <td>46</td>\n",
       "      <td>28</td>\n",
       "      <td>29</td>\n",
       "    </tr>\n",
       "    <tr>\n",
       "      <td>11</td>\n",
       "      <td>11</td>\n",
       "      <td>Korea</td>\n",
       "      <td>KOR</td>\n",
       "      <td>2012</td>\n",
       "      <td>13</td>\n",
       "      <td>8</td>\n",
       "      <td>7</td>\n",
       "    </tr>\n",
       "    <tr>\n",
       "      <td>12</td>\n",
       "      <td>12</td>\n",
       "      <td>Japan</td>\n",
       "      <td>JPN</td>\n",
       "      <td>2012</td>\n",
       "      <td>7</td>\n",
       "      <td>14</td>\n",
       "      <td>17</td>\n",
       "    </tr>\n",
       "    <tr>\n",
       "      <td>13</td>\n",
       "      <td>13</td>\n",
       "      <td>Sri Lanka</td>\n",
       "      <td>SLK</td>\n",
       "      <td>2012</td>\n",
       "      <td>11</td>\n",
       "      <td>11</td>\n",
       "      <td>14</td>\n",
       "    </tr>\n",
       "  </tbody>\n",
       "</table>\n",
       "</div>"
      ],
      "text/plain": [
       "    index        Country Country Code  Year  Gold  Silver  Bronze\n",
       "0       0  Great Britain          GBR  2012    29      17      19\n",
       "1       1         China           CHN  2012    38      28      22\n",
       "2       2         Russia          RUS  2012    24      25      32\n",
       "3       3  United States           US  2012    46      28      29\n",
       "4       4          Korea          KOR  2012    13       8       7\n",
       "5       5          Japan          JPN  2012     7      14      17\n",
       "6       6        Germany          GER  2012    11      11      14\n",
       "7       7         Bhutan          BHU  2012    29      17      19\n",
       "8       8        Myanmar          MYN  2012    38      28      22\n",
       "9       9          Nepal          NEP  2012    24      25      32\n",
       "10     10          India          IND  2012    46      28      29\n",
       "11     11          Korea          KOR  2012    13       8       7\n",
       "12     12          Japan          JPN  2012     7      14      17\n",
       "13     13      Sri Lanka          SLK  2012    11      11      14"
      ]
     },
     "execution_count": 154,
     "metadata": {},
     "output_type": "execute_result"
    }
   ],
   "source": [
    "sqldf"
   ]
  },
  {
   "cell_type": "code",
   "execution_count": null,
   "metadata": {},
   "outputs": [],
   "source": []
  }
 ],
 "metadata": {
  "kernelspec": {
   "display_name": "Python 3",
   "language": "python",
   "name": "python3"
  },
  "language_info": {
   "codemirror_mode": {
    "name": "ipython",
    "version": 3
   },
   "file_extension": ".py",
   "mimetype": "text/x-python",
   "name": "python",
   "nbconvert_exporter": "python",
   "pygments_lexer": "ipython3",
   "version": "3.7.4"
  }
 },
 "nbformat": 4,
 "nbformat_minor": 2
}
